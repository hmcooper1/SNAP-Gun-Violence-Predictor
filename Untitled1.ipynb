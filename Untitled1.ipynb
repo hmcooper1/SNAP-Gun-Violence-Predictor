{
 "cells": [
  {
   "cell_type": "markdown",
   "id": "076bcf93-32f7-4802-9a32-b8258cfb0e00",
   "metadata": {},
   "source": [
    "# Research Question: To what extent is food security, a basic need, through SNAP associated with mass shootings gun violence in the United States?"
   ]
  },
  {
   "cell_type": "markdown",
   "id": "122717ff-4248-4256-bccd-1f7a8694dcfd",
   "metadata": {},
   "source": [
    "# Overview"
   ]
  },
  {
   "cell_type": "markdown",
   "id": "36a87114-71ed-4ccf-960b-04af00861c09",
   "metadata": {},
   "source": [
    "The Second Amendment guarantees individual gun ownership, as affirmed by landmark rulings like *District of Columbia v. Heller* (2008). Yet, gun violence remains a significant U.S. mortality cause. Realizing the tension between rights and violence,and knowing better basic need support can forester social stability, we are interested  to explore if access to basic food benefits, provided by the **Supplemental Nutrition Assistance Program (SNAP)**, influences gun violence rates (specifically mass shootings). We hypothesize that basic food security through SNAP fosters societal stability and reduces gun violence.\n",
    "\n",
    "Our study focuses on the **2017 to 2019 timeframe** to capture conditions before and after *the 2018 Farm Bill* making changes to SNAP and to avoid COVID-19 impacts. We'll examine **mass shootings**, including public, bar/club incidents, family annihilations, drive-bys, and others with at least four victims shot, encompassing mass murder by firearms.\n",
    "\n",
    "Accordingly, we operationalize the research question as follows. The **outcome variable** of the research is *mass shooting gun violence rate, measured by computing the proportion of mass shooting victims  — both injured and died — to the total population*. Our **independent variable** is SNAP benefit, which we measure as *the ratio of the average number of people participating in SNAP to the total population*. We recognize that there may be an additional variable, household income — if a household is below the poverty line — that may also affect gun violence. For example, counties with a high average household income might have fewer homicides and injuries from gun violence even if they do not have a high use of food through SNAP. Our research targets each state and is at the county level."
   ]
  },
  {
   "cell_type": "code",
   "execution_count": 2,
   "id": "0ea48e77-1a19-44e0-a169-161dbdfeb073",
   "metadata": {
    "tags": []
   },
   "outputs": [],
   "source": [
    "import os\n",
    "import io\n",
    "import json\n",
    "from pathlib import Path\n",
    "import requests\n",
    "from tabulate import tabulate\n",
    "from IPython.display import IFrame\n",
    "import pandas as pd\n",
    "import numpy as np\n",
    "import geopandas as gpd\n",
    "import matplotlib.pyplot as plt\n",
    "import seaborn as sns\n",
    "%matplotlib inline\n",
    "import folium\n",
    "from folium.plugins import HeatMap, HeatMapWithTime\n",
    "from shapely import wkt\n",
    "import branca\n",
    "from branca.colormap import linear\n",
    "import branca.colormap as cm\n",
    "import sklearn.linear_model as linear\n",
    "import sklearn.metrics as metrics\n",
    "import sklearn.svm as svm\n",
    "from sklearn.preprocessing import StandardScaler\n",
    "from sklearn.model_selection import (train_test_split, \n",
    "                                     KFold, \n",
    "                                     cross_val_score, \n",
    "                                     cross_val_predict, \n",
    "                                     GridSearchCV)\n",
    "from sklearn.linear_model import LogisticRegression, RidgeClassifier\n",
    "from sklearn.tree import DecisionTreeClassifier, DecisionTreeRegressor\n",
    "from sklearn.ensemble import AdaBoostClassifier, AdaBoostRegressor\n",
    "from sklearn.metrics import (r2_score, \n",
    "                             accuracy_score, \n",
    "                             roc_curve, \n",
    "                             auc, \n",
    "                             classification_report, \n",
    "                             mean_absolute_error, \n",
    "                             mean_squared_error, \n",
    "                             confusion_matrix, \n",
    "                             roc_auc_score,\n",
    "                             recall_score,\n",
    "                             precision_score)\n",
    "import statsmodels.api as sm"
   ]
  },
  {
   "cell_type": "code",
   "execution_count": null,
   "id": "823ad3e4-e21f-4541-8aab-17a45d49866d",
   "metadata": {},
   "outputs": [],
   "source": []
  }
 ],
 "metadata": {
  "kernelspec": {
   "display_name": "Python (geo_env)",
   "language": "python",
   "name": "geo_env"
  },
  "language_info": {
   "codemirror_mode": {
    "name": "ipython",
    "version": 3
   },
   "file_extension": ".py",
   "mimetype": "text/x-python",
   "name": "python",
   "nbconvert_exporter": "python",
   "pygments_lexer": "ipython3",
   "version": "3.11.11"
  }
 },
 "nbformat": 4,
 "nbformat_minor": 5
}
